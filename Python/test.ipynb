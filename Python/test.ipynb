{
 "cells": [
  {
   "cell_type": "code",
   "execution_count": 3,
   "metadata": {},
   "outputs": [],
   "source": [
    "import pandas as pd"
   ]
  },
  {
   "cell_type": "code",
   "execution_count": 4,
   "metadata": {},
   "outputs": [],
   "source": [
    "desc = pd.read_csv(\"./ExcelSheets/description.csv\")\n",
    "workout = pd.read_csv(\"./ExcelSheets/workout.csv\")\n",
    "diet = pd.read_csv(\"./ExcelSheets/diets.csv\")\n",
    "med = pd.read_csv(\"./ExcelSheets/medications.csv\")"
   ]
  },
  {
   "cell_type": "code",
   "execution_count": 8,
   "metadata": {},
   "outputs": [
    {
     "data": {
      "text/html": [
       "<div>\n",
       "<style scoped>\n",
       "    .dataframe tbody tr th:only-of-type {\n",
       "        vertical-align: middle;\n",
       "    }\n",
       "\n",
       "    .dataframe tbody tr th {\n",
       "        vertical-align: top;\n",
       "    }\n",
       "\n",
       "    .dataframe thead th {\n",
       "        text-align: right;\n",
       "    }\n",
       "</style>\n",
       "<table border=\"1\" class=\"dataframe\">\n",
       "  <thead>\n",
       "    <tr style=\"text-align: right;\">\n",
       "      <th></th>\n",
       "      <th>Disease</th>\n",
       "      <th>Description</th>\n",
       "    </tr>\n",
       "  </thead>\n",
       "  <tbody>\n",
       "  </tbody>\n",
       "</table>\n",
       "</div>"
      ],
      "text/plain": [
       "Empty DataFrame\n",
       "Columns: [Disease, Description]\n",
       "Index: []"
      ]
     },
     "execution_count": 8,
     "metadata": {},
     "output_type": "execute_result"
    }
   ],
   "source": [
    "desc[desc[\"Disease\"]==\"Shivering\"]"
   ]
  },
  {
   "cell_type": "code",
   "execution_count": 6,
   "metadata": {},
   "outputs": [
    {
     "name": "stdout",
     "output_type": "stream",
     "text": [
      "{'description': ['Diabetes is a chronic condition that affects how the body processes blood sugar.'], 'workout': ['Monitor carbohydrate intake', 'Eat balanced meals', 'Include lean proteins', 'Consume high-fiber foods', 'Stay hydrated', 'Limit sugary foods and beverages', 'Include healthy fats', 'Monitor blood sugar levels', 'Consult a registered dietitian', 'Take prescribed medications as directed'], 'diets': [\"['Low-Glycemic Diet', 'Fiber-rich foods', 'Lean proteins', 'Healthy fats', 'Low-fat dairy']\"], 'medication': [\"['Insulin', 'Metformin', 'Sulfonylureas', 'DPP-4 inhibitors', 'GLP-1 receptor agonists']\"]}\n"
     ]
    }
   ],
   "source": [
    "data = {\n",
    "  \"description\": desc[desc[\"Disease\"] == \"Diabetes\"][\"Description\"].tolist(),\n",
    "    \"workout\": workout[workout[\"disease\"] == \"Diabetes\"][\"workout\"].tolist(),\n",
    "            \"diets\": diet[diet[\"Disease\"] == \"Diabetes\"][\"Diet\"].tolist(),\n",
    "            \"medication\": med[med[\"Disease\"] == \"Diabetes\"][\"Medication\"].tolist(),\n",
    "   }\n",
    "\n",
    "print(data)"
   ]
  }
 ],
 "metadata": {
  "kernelspec": {
   "display_name": "Python 3",
   "language": "python",
   "name": "python3"
  },
  "language_info": {
   "codemirror_mode": {
    "name": "ipython",
    "version": 3
   },
   "file_extension": ".py",
   "mimetype": "text/x-python",
   "name": "python",
   "nbconvert_exporter": "python",
   "pygments_lexer": "ipython3",
   "version": "3.12.4"
  }
 },
 "nbformat": 4,
 "nbformat_minor": 2
}
